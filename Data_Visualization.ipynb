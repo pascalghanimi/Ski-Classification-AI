{
  "nbformat": 4,
  "nbformat_minor": 0,
  "metadata": {
    "colab": {
      "provenance": [],
      "authorship_tag": "ABX9TyMcT/EAooiMlNLfP33hX9yS",
      "include_colab_link": true
    },
    "kernelspec": {
      "name": "python3",
      "display_name": "Python 3"
    },
    "language_info": {
      "name": "python"
    }
  },
  "cells": [
    {
      "cell_type": "markdown",
      "metadata": {
        "id": "view-in-github",
        "colab_type": "text"
      },
      "source": [
        "<a href=\"https://colab.research.google.com/github/pascalghanimi/Ski-Classification-AI/blob/main/Data_Visualization.ipynb\" target=\"_parent\"><img src=\"https://colab.research.google.com/assets/colab-badge.svg\" alt=\"Open In Colab\"/></a>"
      ]
    },
    {
      "cell_type": "code",
      "source": [
        "pkl_name = \"G_1Simon_PD\""
      ],
      "metadata": {
        "id": "egwNk2HkcbLL"
      },
      "execution_count": 1,
      "outputs": []
    },
    {
      "cell_type": "code",
      "execution_count": 2,
      "metadata": {
        "id": "KzPsSfnfdCtc"
      },
      "outputs": [],
      "source": [
        "import joblib\n",
        "result = joblib.load(f\"/content/demo_{pkl_name}.pkl\")\n",
        "with open(\"/content/result_output.txt\", \"w\") as file:\n",
        "    file.write(str(result))"
      ]
    },
    {
      "cell_type": "code",
      "source": [
        "import numpy as np\n",
        "import joblib\n",
        "import plotly.graph_objects as go\n",
        "\n",
        "# Lade die Daten\n",
        "result = joblib.load(f\"/content/demo_{pkl_name}.pkl\")\n",
        "frame_key = list(result.keys())[0]  # Nimm den ersten Frame\n",
        "joints_3d = np.array(result[frame_key]['3d_joints'][0])  # 3D-Joints der ersten Person\n",
        "\n",
        "# x, y und z\n",
        "x = joints_3d[:, 0]\n",
        "y = joints_3d[:, 1]\n",
        "z = joints_3d[:, 2]\n",
        "\n",
        "# Rotation durchführen, damit das Modell richtig ausgerichtet wird\n",
        "# Dies ist eine 180-Grad-Drehung um die X-Achse\n",
        "rotation_matrix = np.array([[1, 0, 0],\n",
        "                            [0, -1, 0],  # Spiegeln der Y-Achse\n",
        "                            [0, 0, -1]]) # Spiegeln der Z-Achse, damit die Person richtig steht\n",
        "\n",
        "# Anwenden der Rotation auf die Gelenk-Punkte\n",
        "joints_rotated = np.dot(np.column_stack([x, y, z]), rotation_matrix.T)\n",
        "\n",
        "# Die neuen x, y, z Werte nach der Rotation\n",
        "x_rot = joints_rotated[:, 0]\n",
        "y_rot = joints_rotated[:, 1]\n",
        "z_rot = joints_rotated[:, 2]\n",
        "\n",
        "# Plotly 3D Scatter Plot erstellen\n",
        "fig = go.Figure()\n",
        "\n",
        "# Punkte plotten\n",
        "fig.add_trace(go.Scatter3d(\n",
        "    x=x_rot,\n",
        "    y=y_rot,\n",
        "    z=z_rot,\n",
        "    mode='markers+text',  # Punkte und Text anzeigen\n",
        "    marker=dict(size=5, color='red'),  # Marker-Einstellungen: rote Farbe und Größe 5\n",
        "    text=[str(i) for i in range(len(x_rot))],  # Index als Text neben jedem Punkt\n",
        "    textposition=\"top center\",  # Text oberhalb der Punkte\n",
        "    name=\"Joints\"  # Name für die Legende\n",
        "))\n",
        "\n",
        "# Finde den maximalen Wert für x, y und z, um die gleiche Skala zu setzen\n",
        "max_range = np.max([np.abs(x_rot).max(), np.abs(y_rot).max(), np.abs(z_rot).max()])\n",
        "\n",
        "# Achsenbeschriftungen und Titel setzen\n",
        "fig.update_layout(\n",
        "    scene=dict(\n",
        "        xaxis_title='X',\n",
        "        yaxis_title='Y',\n",
        "        zaxis_title='Z',\n",
        "        xaxis=dict(range=[-max_range, max_range]),\n",
        "        yaxis=dict(range=[-max_range, max_range]),\n",
        "        zaxis=dict(range=[-max_range, max_range]),\n",
        "        camera=dict(\n",
        "            eye=dict(x=0, y=0, z=2),  # Perspektive so anpassen, dass der Mensch aufrecht ist\n",
        "            up=dict(x=0, y=1, z=0),   # Vertikale Ausrichtung auf Y\n",
        "            center=dict(x=0, y=0, z=0)  # Mittelpunkt des Koordinatensystems\n",
        "        ),\n",
        "    ),\n",
        "    title=\"3D Joint Visualization\"\n",
        ")\n",
        "\n",
        "# Plot anzeigen\n",
        "fig.show()"
      ],
      "metadata": {
        "id": "Mgm6YuhcdWl6",
        "colab": {
          "base_uri": "https://localhost:8080/",
          "height": 542
        },
        "outputId": "5046632c-5968-4f91-ae80-eece96487998"
      },
      "execution_count": 6,
      "outputs": [
        {
          "output_type": "display_data",
          "data": {
            "text/html": [
              "<html>\n",
              "<head><meta charset=\"utf-8\" /></head>\n",
              "<body>\n",
              "    <div>            <script src=\"https://cdnjs.cloudflare.com/ajax/libs/mathjax/2.7.5/MathJax.js?config=TeX-AMS-MML_SVG\"></script><script type=\"text/javascript\">if (window.MathJax && window.MathJax.Hub && window.MathJax.Hub.Config) {window.MathJax.Hub.Config({SVG: {font: \"STIX-Web\"}});}</script>                <script type=\"text/javascript\">window.PlotlyConfig = {MathJaxConfig: 'local'};</script>\n",
              "        <script charset=\"utf-8\" src=\"https://cdn.plot.ly/plotly-2.35.2.min.js\"></script>                <div id=\"b3b10e8c-8289-46ac-b5de-72509fc4bded\" class=\"plotly-graph-div\" style=\"height:525px; width:100%;\"></div>            <script type=\"text/javascript\">                                    window.PLOTLYENV=window.PLOTLYENV || {};                                    if (document.getElementById(\"b3b10e8c-8289-46ac-b5de-72509fc4bded\")) {                    Plotly.newPlot(                        \"b3b10e8c-8289-46ac-b5de-72509fc4bded\",                        [{\"marker\":{\"color\":\"red\",\"size\":5},\"mode\":\"markers+text\",\"name\":\"Joints\",\"text\":[\"0\",\"1\",\"2\",\"3\",\"4\",\"5\",\"6\",\"7\",\"8\",\"9\",\"10\",\"11\",\"12\",\"13\",\"14\",\"15\",\"16\",\"17\",\"18\",\"19\",\"20\",\"21\",\"22\",\"23\",\"24\",\"25\",\"26\",\"27\",\"28\",\"29\",\"30\",\"31\",\"32\",\"33\",\"34\",\"35\",\"36\",\"37\",\"38\",\"39\",\"40\",\"41\",\"42\",\"43\",\"44\"],\"textposition\":\"top center\",\"x\":[0.0987439900636673,0.08949246257543564,-0.10870248824357986,-0.29931551218032837,-0.46646520495414734,0.2589365541934967,0.45249420404434204,0.5875490307807922,-0.003287284169346094,-0.0758255273103714,-0.22166454792022705,-0.3201831579208374,0.04820975288748741,0.2479138821363449,0.4455775320529938,0.0650879442691803,0.1327785849571228,0.025476910173892975,0.17890465259552002,0.4720734655857086,0.5380765199661255,0.4617573022842407,-0.29533594846725464,-0.37516528367996216,-0.3376201391220093,-0.33109283447265625,-0.19839970767498016,-0.13991297781467438,0.1271315962076187,0.2379416823387146,0.43573474884033203,-0.43518325686454773,-0.31005561351776123,-0.07131614536046982,0.23613394796848297,0.4636414349079132,0.5786439180374146,0.08868858218193054,0.10530230402946472,-0.006647488102316856,0.08111459761857986,0.04607698321342468,0.10816146433353424,0.10021878778934479,0.0],\"y\":[0.7493870258331299,0.6794028282165527,0.6428108215332031,0.5068012475967407,0.3785380721092224,0.60994553565979,0.45493611693382263,0.34369248151779175,0.2377990186214447,0.15768399834632874,-0.16380441188812256,-0.5624143481254578,0.14680638909339905,-0.15029996633529663,-0.5110024213790894,0.7965249419212341,0.7972877025604248,0.8001984357833862,0.8004958629608154,-0.5734009742736816,-0.5518329739570618,-0.5491476058959961,-0.6187738180160522,-0.6177175045013428,-0.6073194742202759,-0.5060900449752808,-0.10622789710760117,0.2916660010814667,0.2599835991859436,-0.11225726455450058,-0.4795229434967041,0.40077677369117737,0.5354797840118408,0.6612040996551514,0.6388566493988037,0.4904622435569763,0.36755770444869995,0.6818698048591614,0.849053144454956,0.27517372369766235,0.6434192657470703,0.4901554584503174,0.736162006855011,0.8706712126731873,0.0],\"z\":[0.439209908246994,0.24272340536117554,0.19325049221515656,0.0720282644033432,0.23615217208862305,0.16671600937843323,0.055140718817710876,0.25002774596214294,-0.023431677371263504,-0.04627403989434242,0.14451397955417633,0.06346410512924194,-0.0648459643125534,0.09665840864181519,0.020710855722427368,0.4098297357559204,0.4141661524772644,0.3105078339576721,0.3189827799797058,0.22006756067276,0.16319875419139862,-0.04436517879366875,0.2663229703903198,0.21772244572639465,0.002062268555164337,0.04339377582073212,0.12438323348760605,-0.017918139696121216,-0.07155758142471313,0.08711984753608704,-0.004500793293118477,0.2515048682689667,0.10125809907913208,0.20585227012634277,0.18409109115600586,0.08947735279798508,0.25177279114723206,0.235856294631958,0.3440156877040863,-0.04424513876438141,0.19553810358047485,0.07809272408485413,0.3540218472480774,0.3378281593322754,0.0],\"type\":\"scatter3d\"}],                        {\"template\":{\"data\":{\"histogram2dcontour\":[{\"type\":\"histogram2dcontour\",\"colorbar\":{\"outlinewidth\":0,\"ticks\":\"\"},\"colorscale\":[[0.0,\"#0d0887\"],[0.1111111111111111,\"#46039f\"],[0.2222222222222222,\"#7201a8\"],[0.3333333333333333,\"#9c179e\"],[0.4444444444444444,\"#bd3786\"],[0.5555555555555556,\"#d8576b\"],[0.6666666666666666,\"#ed7953\"],[0.7777777777777778,\"#fb9f3a\"],[0.8888888888888888,\"#fdca26\"],[1.0,\"#f0f921\"]]}],\"choropleth\":[{\"type\":\"choropleth\",\"colorbar\":{\"outlinewidth\":0,\"ticks\":\"\"}}],\"histogram2d\":[{\"type\":\"histogram2d\",\"colorbar\":{\"outlinewidth\":0,\"ticks\":\"\"},\"colorscale\":[[0.0,\"#0d0887\"],[0.1111111111111111,\"#46039f\"],[0.2222222222222222,\"#7201a8\"],[0.3333333333333333,\"#9c179e\"],[0.4444444444444444,\"#bd3786\"],[0.5555555555555556,\"#d8576b\"],[0.6666666666666666,\"#ed7953\"],[0.7777777777777778,\"#fb9f3a\"],[0.8888888888888888,\"#fdca26\"],[1.0,\"#f0f921\"]]}],\"heatmap\":[{\"type\":\"heatmap\",\"colorbar\":{\"outlinewidth\":0,\"ticks\":\"\"},\"colorscale\":[[0.0,\"#0d0887\"],[0.1111111111111111,\"#46039f\"],[0.2222222222222222,\"#7201a8\"],[0.3333333333333333,\"#9c179e\"],[0.4444444444444444,\"#bd3786\"],[0.5555555555555556,\"#d8576b\"],[0.6666666666666666,\"#ed7953\"],[0.7777777777777778,\"#fb9f3a\"],[0.8888888888888888,\"#fdca26\"],[1.0,\"#f0f921\"]]}],\"heatmapgl\":[{\"type\":\"heatmapgl\",\"colorbar\":{\"outlinewidth\":0,\"ticks\":\"\"},\"colorscale\":[[0.0,\"#0d0887\"],[0.1111111111111111,\"#46039f\"],[0.2222222222222222,\"#7201a8\"],[0.3333333333333333,\"#9c179e\"],[0.4444444444444444,\"#bd3786\"],[0.5555555555555556,\"#d8576b\"],[0.6666666666666666,\"#ed7953\"],[0.7777777777777778,\"#fb9f3a\"],[0.8888888888888888,\"#fdca26\"],[1.0,\"#f0f921\"]]}],\"contourcarpet\":[{\"type\":\"contourcarpet\",\"colorbar\":{\"outlinewidth\":0,\"ticks\":\"\"}}],\"contour\":[{\"type\":\"contour\",\"colorbar\":{\"outlinewidth\":0,\"ticks\":\"\"},\"colorscale\":[[0.0,\"#0d0887\"],[0.1111111111111111,\"#46039f\"],[0.2222222222222222,\"#7201a8\"],[0.3333333333333333,\"#9c179e\"],[0.4444444444444444,\"#bd3786\"],[0.5555555555555556,\"#d8576b\"],[0.6666666666666666,\"#ed7953\"],[0.7777777777777778,\"#fb9f3a\"],[0.8888888888888888,\"#fdca26\"],[1.0,\"#f0f921\"]]}],\"surface\":[{\"type\":\"surface\",\"colorbar\":{\"outlinewidth\":0,\"ticks\":\"\"},\"colorscale\":[[0.0,\"#0d0887\"],[0.1111111111111111,\"#46039f\"],[0.2222222222222222,\"#7201a8\"],[0.3333333333333333,\"#9c179e\"],[0.4444444444444444,\"#bd3786\"],[0.5555555555555556,\"#d8576b\"],[0.6666666666666666,\"#ed7953\"],[0.7777777777777778,\"#fb9f3a\"],[0.8888888888888888,\"#fdca26\"],[1.0,\"#f0f921\"]]}],\"mesh3d\":[{\"type\":\"mesh3d\",\"colorbar\":{\"outlinewidth\":0,\"ticks\":\"\"}}],\"scatter\":[{\"fillpattern\":{\"fillmode\":\"overlay\",\"size\":10,\"solidity\":0.2},\"type\":\"scatter\"}],\"parcoords\":[{\"type\":\"parcoords\",\"line\":{\"colorbar\":{\"outlinewidth\":0,\"ticks\":\"\"}}}],\"scatterpolargl\":[{\"type\":\"scatterpolargl\",\"marker\":{\"colorbar\":{\"outlinewidth\":0,\"ticks\":\"\"}}}],\"bar\":[{\"error_x\":{\"color\":\"#2a3f5f\"},\"error_y\":{\"color\":\"#2a3f5f\"},\"marker\":{\"line\":{\"color\":\"#E5ECF6\",\"width\":0.5},\"pattern\":{\"fillmode\":\"overlay\",\"size\":10,\"solidity\":0.2}},\"type\":\"bar\"}],\"scattergeo\":[{\"type\":\"scattergeo\",\"marker\":{\"colorbar\":{\"outlinewidth\":0,\"ticks\":\"\"}}}],\"scatterpolar\":[{\"type\":\"scatterpolar\",\"marker\":{\"colorbar\":{\"outlinewidth\":0,\"ticks\":\"\"}}}],\"histogram\":[{\"marker\":{\"pattern\":{\"fillmode\":\"overlay\",\"size\":10,\"solidity\":0.2}},\"type\":\"histogram\"}],\"scattergl\":[{\"type\":\"scattergl\",\"marker\":{\"colorbar\":{\"outlinewidth\":0,\"ticks\":\"\"}}}],\"scatter3d\":[{\"type\":\"scatter3d\",\"line\":{\"colorbar\":{\"outlinewidth\":0,\"ticks\":\"\"}},\"marker\":{\"colorbar\":{\"outlinewidth\":0,\"ticks\":\"\"}}}],\"scattermapbox\":[{\"type\":\"scattermapbox\",\"marker\":{\"colorbar\":{\"outlinewidth\":0,\"ticks\":\"\"}}}],\"scatterternary\":[{\"type\":\"scatterternary\",\"marker\":{\"colorbar\":{\"outlinewidth\":0,\"ticks\":\"\"}}}],\"scattercarpet\":[{\"type\":\"scattercarpet\",\"marker\":{\"colorbar\":{\"outlinewidth\":0,\"ticks\":\"\"}}}],\"carpet\":[{\"aaxis\":{\"endlinecolor\":\"#2a3f5f\",\"gridcolor\":\"white\",\"linecolor\":\"white\",\"minorgridcolor\":\"white\",\"startlinecolor\":\"#2a3f5f\"},\"baxis\":{\"endlinecolor\":\"#2a3f5f\",\"gridcolor\":\"white\",\"linecolor\":\"white\",\"minorgridcolor\":\"white\",\"startlinecolor\":\"#2a3f5f\"},\"type\":\"carpet\"}],\"table\":[{\"cells\":{\"fill\":{\"color\":\"#EBF0F8\"},\"line\":{\"color\":\"white\"}},\"header\":{\"fill\":{\"color\":\"#C8D4E3\"},\"line\":{\"color\":\"white\"}},\"type\":\"table\"}],\"barpolar\":[{\"marker\":{\"line\":{\"color\":\"#E5ECF6\",\"width\":0.5},\"pattern\":{\"fillmode\":\"overlay\",\"size\":10,\"solidity\":0.2}},\"type\":\"barpolar\"}],\"pie\":[{\"automargin\":true,\"type\":\"pie\"}]},\"layout\":{\"autotypenumbers\":\"strict\",\"colorway\":[\"#636efa\",\"#EF553B\",\"#00cc96\",\"#ab63fa\",\"#FFA15A\",\"#19d3f3\",\"#FF6692\",\"#B6E880\",\"#FF97FF\",\"#FECB52\"],\"font\":{\"color\":\"#2a3f5f\"},\"hovermode\":\"closest\",\"hoverlabel\":{\"align\":\"left\"},\"paper_bgcolor\":\"white\",\"plot_bgcolor\":\"#E5ECF6\",\"polar\":{\"bgcolor\":\"#E5ECF6\",\"angularaxis\":{\"gridcolor\":\"white\",\"linecolor\":\"white\",\"ticks\":\"\"},\"radialaxis\":{\"gridcolor\":\"white\",\"linecolor\":\"white\",\"ticks\":\"\"}},\"ternary\":{\"bgcolor\":\"#E5ECF6\",\"aaxis\":{\"gridcolor\":\"white\",\"linecolor\":\"white\",\"ticks\":\"\"},\"baxis\":{\"gridcolor\":\"white\",\"linecolor\":\"white\",\"ticks\":\"\"},\"caxis\":{\"gridcolor\":\"white\",\"linecolor\":\"white\",\"ticks\":\"\"}},\"coloraxis\":{\"colorbar\":{\"outlinewidth\":0,\"ticks\":\"\"}},\"colorscale\":{\"sequential\":[[0.0,\"#0d0887\"],[0.1111111111111111,\"#46039f\"],[0.2222222222222222,\"#7201a8\"],[0.3333333333333333,\"#9c179e\"],[0.4444444444444444,\"#bd3786\"],[0.5555555555555556,\"#d8576b\"],[0.6666666666666666,\"#ed7953\"],[0.7777777777777778,\"#fb9f3a\"],[0.8888888888888888,\"#fdca26\"],[1.0,\"#f0f921\"]],\"sequentialminus\":[[0.0,\"#0d0887\"],[0.1111111111111111,\"#46039f\"],[0.2222222222222222,\"#7201a8\"],[0.3333333333333333,\"#9c179e\"],[0.4444444444444444,\"#bd3786\"],[0.5555555555555556,\"#d8576b\"],[0.6666666666666666,\"#ed7953\"],[0.7777777777777778,\"#fb9f3a\"],[0.8888888888888888,\"#fdca26\"],[1.0,\"#f0f921\"]],\"diverging\":[[0,\"#8e0152\"],[0.1,\"#c51b7d\"],[0.2,\"#de77ae\"],[0.3,\"#f1b6da\"],[0.4,\"#fde0ef\"],[0.5,\"#f7f7f7\"],[0.6,\"#e6f5d0\"],[0.7,\"#b8e186\"],[0.8,\"#7fbc41\"],[0.9,\"#4d9221\"],[1,\"#276419\"]]},\"xaxis\":{\"gridcolor\":\"white\",\"linecolor\":\"white\",\"ticks\":\"\",\"title\":{\"standoff\":15},\"zerolinecolor\":\"white\",\"automargin\":true,\"zerolinewidth\":2},\"yaxis\":{\"gridcolor\":\"white\",\"linecolor\":\"white\",\"ticks\":\"\",\"title\":{\"standoff\":15},\"zerolinecolor\":\"white\",\"automargin\":true,\"zerolinewidth\":2},\"scene\":{\"xaxis\":{\"backgroundcolor\":\"#E5ECF6\",\"gridcolor\":\"white\",\"linecolor\":\"white\",\"showbackground\":true,\"ticks\":\"\",\"zerolinecolor\":\"white\",\"gridwidth\":2},\"yaxis\":{\"backgroundcolor\":\"#E5ECF6\",\"gridcolor\":\"white\",\"linecolor\":\"white\",\"showbackground\":true,\"ticks\":\"\",\"zerolinecolor\":\"white\",\"gridwidth\":2},\"zaxis\":{\"backgroundcolor\":\"#E5ECF6\",\"gridcolor\":\"white\",\"linecolor\":\"white\",\"showbackground\":true,\"ticks\":\"\",\"zerolinecolor\":\"white\",\"gridwidth\":2}},\"shapedefaults\":{\"line\":{\"color\":\"#2a3f5f\"}},\"annotationdefaults\":{\"arrowcolor\":\"#2a3f5f\",\"arrowhead\":0,\"arrowwidth\":1},\"geo\":{\"bgcolor\":\"white\",\"landcolor\":\"#E5ECF6\",\"subunitcolor\":\"white\",\"showland\":true,\"showlakes\":true,\"lakecolor\":\"white\"},\"title\":{\"x\":0.05},\"mapbox\":{\"style\":\"light\"}}},\"scene\":{\"xaxis\":{\"title\":{\"text\":\"X\"},\"range\":[-0.8706712126731873,0.8706712126731873]},\"yaxis\":{\"title\":{\"text\":\"Y\"},\"range\":[-0.8706712126731873,0.8706712126731873]},\"zaxis\":{\"title\":{\"text\":\"Z\"},\"range\":[-0.8706712126731873,0.8706712126731873]},\"camera\":{\"eye\":{\"x\":0,\"y\":0,\"z\":2},\"up\":{\"x\":0,\"y\":1,\"z\":0},\"center\":{\"x\":0,\"y\":0,\"z\":0}}},\"title\":{\"text\":\"3D Joint Visualization\"}},                        {\"responsive\": true}                    ).then(function(){\n",
              "                            \n",
              "var gd = document.getElementById('b3b10e8c-8289-46ac-b5de-72509fc4bded');\n",
              "var x = new MutationObserver(function (mutations, observer) {{\n",
              "        var display = window.getComputedStyle(gd).display;\n",
              "        if (!display || display === 'none') {{\n",
              "            console.log([gd, 'removed!']);\n",
              "            Plotly.purge(gd);\n",
              "            observer.disconnect();\n",
              "        }}\n",
              "}});\n",
              "\n",
              "// Listen for the removal of the full notebook cells\n",
              "var notebookContainer = gd.closest('#notebook-container');\n",
              "if (notebookContainer) {{\n",
              "    x.observe(notebookContainer, {childList: true});\n",
              "}}\n",
              "\n",
              "// Listen for the clearing of the current output cell\n",
              "var outputEl = gd.closest('.output');\n",
              "if (outputEl) {{\n",
              "    x.observe(outputEl, {childList: true});\n",
              "}}\n",
              "\n",
              "                        })                };                            </script>        </div>\n",
              "</body>\n",
              "</html>"
            ]
          },
          "metadata": {}
        }
      ]
    }
  ]
}