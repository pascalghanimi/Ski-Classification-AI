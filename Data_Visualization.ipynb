{
  "nbformat": 4,
  "nbformat_minor": 0,
  "metadata": {
    "colab": {
      "provenance": [],
      "authorship_tag": "ABX9TyOJAnkBuY9MZlC+tAd3LVSd",
      "include_colab_link": true
    },
    "kernelspec": {
      "name": "python3",
      "display_name": "Python 3"
    },
    "language_info": {
      "name": "python"
    }
  },
  "cells": [
    {
      "cell_type": "markdown",
      "metadata": {
        "id": "view-in-github",
        "colab_type": "text"
      },
      "source": [
        "<a href=\"https://colab.research.google.com/github/pascalghanimi/Ski-Classification-AI/blob/main/Data_Visualization.ipynb\" target=\"_parent\"><img src=\"https://colab.research.google.com/assets/colab-badge.svg\" alt=\"Open In Colab\"/></a>"
      ]
    },
    {
      "cell_type": "code",
      "execution_count": null,
      "metadata": {
        "id": "KzPsSfnfdCtc"
      },
      "outputs": [],
      "source": [
        "import joblib\n",
        "result = joblib.load(f\"/content/4D-Humans/outputs/results/demo_{video_name}.pkl\")\n",
        "with open(\"/content/result_output.txt\", \"w\") as file:\n",
        "    file.write(str(result))"
      ]
    },
    {
      "cell_type": "code",
      "source": [
        "import numpy as np\n",
        "import joblib\n",
        "import plotly.graph_objects as go\n",
        "\n",
        "# Lade die Daten\n",
        "result = joblib.load(f\"/content/4D-Humans/outputs/results/demo_{video_name}.pkl\")\n",
        "frame_key = list(result.keys())[0]  # Nimm den ersten Frame\n",
        "joints_3d = np.array(result[frame_key]['3d_joints'][0])  # 3D-Joints der ersten Person\n",
        "\n",
        "# x, y und z\n",
        "x = joints_3d[:, 0]\n",
        "y = joints_3d[:, 1]\n",
        "z = joints_3d[:, 2]\n",
        "\n",
        "# Rotation durchführen, damit das Modell richtig ausgerichtet wird\n",
        "# Dies ist eine 180-Grad-Drehung um die X-Achse\n",
        "rotation_matrix = np.array([[1, 0, 0],\n",
        "                            [0, -1, 0],  # Spiegeln der Y-Achse\n",
        "                            [0, 0, -1]]) # Spiegeln der Z-Achse, damit die Person richtig steht\n",
        "\n",
        "# Anwenden der Rotation auf die Gelenk-Punkte\n",
        "joints_rotated = np.dot(np.column_stack([x, y, z]), rotation_matrix.T)\n",
        "\n",
        "# Die neuen x, y, z Werte nach der Rotation\n",
        "x_rot = joints_rotated[:, 0]\n",
        "y_rot = joints_rotated[:, 1]\n",
        "z_rot = joints_rotated[:, 2]\n",
        "\n",
        "# Plotly 3D Scatter Plot erstellen\n",
        "fig = go.Figure()\n",
        "\n",
        "# Punkte plotten\n",
        "fig.add_trace(go.Scatter3d(\n",
        "    x=x_rot,\n",
        "    y=y_rot,\n",
        "    z=z_rot,\n",
        "    mode='markers+text',  # Punkte und Text anzeigen\n",
        "    marker=dict(size=5, color='red'),  # Marker-Einstellungen: rote Farbe und Größe 5\n",
        "    text=[str(i) for i in range(len(x_rot))],  # Index als Text neben jedem Punkt\n",
        "    textposition=\"top center\",  # Text oberhalb der Punkte\n",
        "    name=\"Joints\"  # Name für die Legende\n",
        "))\n",
        "\n",
        "# Finde den maximalen Wert für x, y und z, um die gleiche Skala zu setzen\n",
        "max_range = np.max([np.abs(x_rot).max(), np.abs(y_rot).max(), np.abs(z_rot).max()])\n",
        "\n",
        "# Achsenbeschriftungen und Titel setzen\n",
        "fig.update_layout(\n",
        "    scene=dict(\n",
        "        xaxis_title='X',\n",
        "        yaxis_title='Y',\n",
        "        zaxis_title='Z',\n",
        "        xaxis=dict(range=[-max_range, max_range]),\n",
        "        yaxis=dict(range=[-max_range, max_range]),\n",
        "        zaxis=dict(range=[-max_range, max_range]),\n",
        "        camera=dict(\n",
        "            eye=dict(x=0, y=0, z=2),  # Perspektive so anpassen, dass der Mensch aufrecht ist\n",
        "            up=dict(x=0, y=1, z=0),   # Vertikale Ausrichtung auf Y\n",
        "            center=dict(x=0, y=0, z=0)  # Mittelpunkt des Koordinatensystems\n",
        "        ),\n",
        "    ),\n",
        "    title=\"3D Joint Visualization\"\n",
        ")\n",
        "\n",
        "# Plot anzeigen\n",
        "fig.show()"
      ],
      "metadata": {
        "id": "Mgm6YuhcdWl6"
      },
      "execution_count": null,
      "outputs": []
    }
  ]
}