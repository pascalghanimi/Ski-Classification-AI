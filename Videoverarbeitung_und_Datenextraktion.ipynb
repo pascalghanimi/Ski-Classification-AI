{
  "nbformat": 4,
  "nbformat_minor": 0,
  "metadata": {
    "colab": {
      "provenance": [],
      "authorship_tag": "ABX9TyPzfIVLnKJQslu/y9f7wjbZ",
      "include_colab_link": true
    },
    "kernelspec": {
      "name": "python3",
      "display_name": "Python 3"
    },
    "language_info": {
      "name": "python"
    }
  },
  "cells": [
    {
      "cell_type": "markdown",
      "metadata": {
        "id": "view-in-github",
        "colab_type": "text"
      },
      "source": [
        "<a href=\"https://colab.research.google.com/github/pascalghanimi/Ski-Classification-AI/blob/main/Videoverarbeitung_und_Datenextraktion.ipynb\" target=\"_parent\"><img src=\"https://colab.research.google.com/assets/colab-badge.svg\" alt=\"Open In Colab\"/></a>"
      ]
    },
    {
      "cell_type": "code",
      "execution_count": 1,
      "metadata": {
        "id": "yluQw0AFF08J"
      },
      "outputs": [],
      "source": [
        "# Clone the main repo\n",
        "%%capture\n",
        "! git clone https://github.com/shubham-goel/4D-Humans.git 4D-Humans\n",
        "%cd 4D-Humans"
      ]
    },
    {
      "cell_type": "code",
      "source": [
        "!pip install torch\n",
        "!pip install -e .[all]"
      ],
      "metadata": {
        "id": "pXwMYAyVGdq-"
      },
      "execution_count": null,
      "outputs": []
    },
    {
      "cell_type": "code",
      "source": [
        "%cd /content/4D-Humans"
      ],
      "metadata": {
        "id": "OJ8SNiyeGhml"
      },
      "execution_count": null,
      "outputs": []
    },
    {
      "cell_type": "code",
      "source": [
        "import os\n",
        "\n",
        "file_path = \"/usr/local/lib/python3.11/dist-packages/chumpy/ch.py\"\n",
        "\n",
        "# Lies den Inhalt der Datei\n",
        "with open(file_path, \"r\") as file:\n",
        "    content = file.read()\n",
        "\n",
        "# Ersetze `inspect.getargspec` durch `inspect.signature`\n",
        "content = content.replace(\"inspect.getargspec(func).args\", \"inspect.signature(func).parameters\")\n",
        "\n",
        "# Schreibe die Änderungen zurück\n",
        "with open(file_path, \"w\") as file:\n",
        "    file.write(content)\n",
        "\n",
        "print(\"Änderungen erfolgreich durchgeführt!\")\n"
      ],
      "metadata": {
        "id": "iPsnb9FMGtB5"
      },
      "execution_count": null,
      "outputs": []
    },
    {
      "cell_type": "code",
      "source": [
        "!pip install git+https://github.com/brjathu/PHALP.git"
      ],
      "metadata": {
        "id": "dzBc7ISLGxTF"
      },
      "execution_count": null,
      "outputs": []
    },
    {
      "cell_type": "code",
      "source": [
        "video_path = \"example_data/videos/G_1Simon_PD.mp4\"\n",
        "video_name = \"G_1Simon_PD\"\n",
        "\n",
        "# Tracking ausführen\n",
        "!python track.py video.source=\"{video_path}\" video.start_frame=0 video.end_frame=117"
      ],
      "metadata": {
        "id": "8nhZZQ_2GyyT"
      },
      "execution_count": null,
      "outputs": []
    },
    {
      "cell_type": "code",
      "source": [
        "# Funktion zur Anzeige des Videos\n",
        "def show_local_mp4_video(file_name, width=640, height=480):\n",
        "    import io\n",
        "    import base64\n",
        "    from IPython.display import HTML\n",
        "    video_encoded = base64.b64encode(io.open(file_name, 'rb').read())\n",
        "    return HTML(data='''<video width=\"{0}\" height=\"{1}\" alt=\"test\" controls>\n",
        "                        <source src=\"data:video/mp4;base64,{2}\" type=\"video/mp4\" />\n",
        "                        </video>'''.format(width, height, video_encoded.decode('ascii')))\n",
        "\n",
        "# Dynamische Pfade für das Ausgabevideo\n",
        "output_video_path = f\"outputs/PHALP_{video_name}.mp4\"\n",
        "converted_video_path = f\"outputs/PHALP_{video_name}_ffmpeg.mp4\"\n",
        "\n",
        "# Konvertiere mit ffmpeg und zeige das Video an\n",
        "!ffmpeg -y -hide_banner -loglevel error -i \"{output_video_path}\" \"{converted_video_path}\"\n",
        "show_local_mp4_video(converted_video_path, width=960, height=540)\n"
      ],
      "metadata": {
        "id": "hOf1iyUJG2wf"
      },
      "execution_count": null,
      "outputs": []
    }
  ]
}