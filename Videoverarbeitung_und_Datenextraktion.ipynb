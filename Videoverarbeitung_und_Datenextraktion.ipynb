{
  "nbformat": 4,
  "nbformat_minor": 0,
  "metadata": {
    "colab": {
      "provenance": [],
      "gpuType": "T4",
      "authorship_tag": "ABX9TyPzfIVLnKJQslu/y9f7wjbZ",
      "include_colab_link": true
    },
    "kernelspec": {
      "name": "python3",
      "display_name": "Python 3"
    },
    "language_info": {
      "name": "python"
    },
    "accelerator": "GPU"
  },
  "cells": [
    {
      "cell_type": "markdown",
      "metadata": {
        "id": "view-in-github",
        "colab_type": "text"
      },
      "source": [
        "<a href=\"https://colab.research.google.com/github/pascalghanimi/Ski-Classification-AI/blob/main/Videoverarbeitung_und_Datenextraktion.ipynb\" target=\"_parent\"><img src=\"https://colab.research.google.com/assets/colab-badge.svg\" alt=\"Open In Colab\"/></a>"
      ]
    },
    {
      "cell_type": "code",
      "execution_count": 1,
      "metadata": {
        "id": "yluQw0AFF08J"
      },
      "outputs": [],
      "source": [
        "# Clone the main repo\n",
        "%%capture\n",
        "! git clone https://github.com/shubham-goel/4D-Humans.git 4D-Humans\n",
        "%cd 4D-Humans"
      ]
    },
    {
      "cell_type": "code",
      "source": [
        "!pip install torch\n",
        "!pip install -e .[all]"
      ],
      "metadata": {
        "id": "pXwMYAyVGdq-",
        "colab": {
          "base_uri": "https://localhost:8080/"
        },
        "outputId": "f29b12a1-b176-48a1-a288-a9710f0d7f59"
      },
      "execution_count": null,
      "outputs": [
        {
          "output_type": "stream",
          "name": "stdout",
          "text": [
            "Requirement already satisfied: torch in /usr/local/lib/python3.11/dist-packages (2.5.1+cu124)\n",
            "Requirement already satisfied: filelock in /usr/local/lib/python3.11/dist-packages (from torch) (3.17.0)\n",
            "Requirement already satisfied: typing-extensions>=4.8.0 in /usr/local/lib/python3.11/dist-packages (from torch) (4.12.2)\n",
            "Requirement already satisfied: networkx in /usr/local/lib/python3.11/dist-packages (from torch) (3.4.2)\n",
            "Requirement already satisfied: jinja2 in /usr/local/lib/python3.11/dist-packages (from torch) (3.1.5)\n",
            "Requirement already satisfied: fsspec in /usr/local/lib/python3.11/dist-packages (from torch) (2024.10.0)\n",
            "Collecting nvidia-cuda-nvrtc-cu12==12.4.127 (from torch)\n",
            "  Downloading nvidia_cuda_nvrtc_cu12-12.4.127-py3-none-manylinux2014_x86_64.whl.metadata (1.5 kB)\n",
            "Collecting nvidia-cuda-runtime-cu12==12.4.127 (from torch)\n",
            "  Downloading nvidia_cuda_runtime_cu12-12.4.127-py3-none-manylinux2014_x86_64.whl.metadata (1.5 kB)\n",
            "Collecting nvidia-cuda-cupti-cu12==12.4.127 (from torch)\n",
            "  Downloading nvidia_cuda_cupti_cu12-12.4.127-py3-none-manylinux2014_x86_64.whl.metadata (1.6 kB)\n",
            "Collecting nvidia-cudnn-cu12==9.1.0.70 (from torch)\n",
            "  Downloading nvidia_cudnn_cu12-9.1.0.70-py3-none-manylinux2014_x86_64.whl.metadata (1.6 kB)\n",
            "Collecting nvidia-cublas-cu12==12.4.5.8 (from torch)\n",
            "  Downloading nvidia_cublas_cu12-12.4.5.8-py3-none-manylinux2014_x86_64.whl.metadata (1.5 kB)\n",
            "Collecting nvidia-cufft-cu12==11.2.1.3 (from torch)\n",
            "  Downloading nvidia_cufft_cu12-11.2.1.3-py3-none-manylinux2014_x86_64.whl.metadata (1.5 kB)\n",
            "Collecting nvidia-curand-cu12==10.3.5.147 (from torch)\n",
            "  Downloading nvidia_curand_cu12-10.3.5.147-py3-none-manylinux2014_x86_64.whl.metadata (1.5 kB)\n",
            "Collecting nvidia-cusolver-cu12==11.6.1.9 (from torch)\n",
            "  Downloading nvidia_cusolver_cu12-11.6.1.9-py3-none-manylinux2014_x86_64.whl.metadata (1.6 kB)\n",
            "Collecting nvidia-cusparse-cu12==12.3.1.170 (from torch)\n",
            "  Downloading nvidia_cusparse_cu12-12.3.1.170-py3-none-manylinux2014_x86_64.whl.metadata (1.6 kB)\n",
            "Requirement already satisfied: nvidia-nccl-cu12==2.21.5 in /usr/local/lib/python3.11/dist-packages (from torch) (2.21.5)\n",
            "Requirement already satisfied: nvidia-nvtx-cu12==12.4.127 in /usr/local/lib/python3.11/dist-packages (from torch) (12.4.127)\n",
            "Collecting nvidia-nvjitlink-cu12==12.4.127 (from torch)\n",
            "  Downloading nvidia_nvjitlink_cu12-12.4.127-py3-none-manylinux2014_x86_64.whl.metadata (1.5 kB)\n",
            "Requirement already satisfied: triton==3.1.0 in /usr/local/lib/python3.11/dist-packages (from torch) (3.1.0)\n",
            "Requirement already satisfied: sympy==1.13.1 in /usr/local/lib/python3.11/dist-packages (from torch) (1.13.1)\n",
            "Requirement already satisfied: mpmath<1.4,>=1.1.0 in /usr/local/lib/python3.11/dist-packages (from sympy==1.13.1->torch) (1.3.0)\n",
            "Requirement already satisfied: MarkupSafe>=2.0 in /usr/local/lib/python3.11/dist-packages (from jinja2->torch) (3.0.2)\n",
            "Downloading nvidia_cublas_cu12-12.4.5.8-py3-none-manylinux2014_x86_64.whl (363.4 MB)\n",
            "\u001b[2K   \u001b[90m━━━━━━━━━━━━━━━━━━━━━━━━━━━━━━━━━━━━━━━━\u001b[0m \u001b[32m363.4/363.4 MB\u001b[0m \u001b[31m4.3 MB/s\u001b[0m eta \u001b[36m0:00:00\u001b[0m\n",
            "\u001b[?25hDownloading nvidia_cuda_cupti_cu12-12.4.127-py3-none-manylinux2014_x86_64.whl (13.8 MB)\n",
            "\u001b[2K   \u001b[90m━━━━━━━━━━━━━━━━━━━━━━━━━━━━━━━━━━━━━━━━\u001b[0m \u001b[32m13.8/13.8 MB\u001b[0m \u001b[31m80.0 MB/s\u001b[0m eta \u001b[36m0:00:00\u001b[0m\n",
            "\u001b[?25hDownloading nvidia_cuda_nvrtc_cu12-12.4.127-py3-none-manylinux2014_x86_64.whl (24.6 MB)\n",
            "\u001b[2K   \u001b[90m━━━━━━━━━━━━━━━━━━━━━━━━━━━━━━━━━━━━━━━━\u001b[0m \u001b[32m24.6/24.6 MB\u001b[0m \u001b[31m57.6 MB/s\u001b[0m eta \u001b[36m0:00:00\u001b[0m\n",
            "\u001b[?25hDownloading nvidia_cuda_runtime_cu12-12.4.127-py3-none-manylinux2014_x86_64.whl (883 kB)\n",
            "\u001b[2K   \u001b[90m━━━━━━━━━━━━━━━━━━━━━━━━━━━━━━━━━━━━━━━━\u001b[0m \u001b[32m883.7/883.7 kB\u001b[0m \u001b[31m39.4 MB/s\u001b[0m eta \u001b[36m0:00:00\u001b[0m\n",
            "\u001b[?25hDownloading nvidia_cudnn_cu12-9.1.0.70-py3-none-manylinux2014_x86_64.whl (664.8 MB)\n",
            "\u001b[2K   \u001b[90m━━━━━━━━━━━━━━━━━━━━━━━━━━━━━━━━━━━━━━━━\u001b[0m \u001b[32m664.8/664.8 MB\u001b[0m \u001b[31m2.6 MB/s\u001b[0m eta \u001b[36m0:00:00\u001b[0m\n",
            "\u001b[?25hDownloading nvidia_cufft_cu12-11.2.1.3-py3-none-manylinux2014_x86_64.whl (211.5 MB)\n",
            "\u001b[2K   \u001b[90m━━━━━━━━━━━━━━━━━━━━━━━━━━━━━━━━━━━━━━━━\u001b[0m \u001b[32m211.5/211.5 MB\u001b[0m \u001b[31m4.7 MB/s\u001b[0m eta \u001b[36m0:00:00\u001b[0m\n",
            "\u001b[?25hDownloading nvidia_curand_cu12-10.3.5.147-py3-none-manylinux2014_x86_64.whl (56.3 MB)\n",
            "\u001b[2K   \u001b[90m━━━━━━━━━━━━━━━━━━━━━━━━━━━━━━━━━━━━━━━━\u001b[0m \u001b[32m56.3/56.3 MB\u001b[0m \u001b[31m10.4 MB/s\u001b[0m eta \u001b[36m0:00:00\u001b[0m\n",
            "\u001b[?25hDownloading nvidia_cusolver_cu12-11.6.1.9-py3-none-manylinux2014_x86_64.whl (127.9 MB)\n",
            "\u001b[2K   \u001b[90m━━━━━━━━━━━━━━━━━━━━━━━━━━━━━━━━━━━━━━━━\u001b[0m \u001b[32m127.9/127.9 MB\u001b[0m \u001b[31m7.0 MB/s\u001b[0m eta \u001b[36m0:00:00\u001b[0m\n",
            "\u001b[?25hDownloading nvidia_cusparse_cu12-12.3.1.170-py3-none-manylinux2014_x86_64.whl (207.5 MB)\n",
            "\u001b[2K   \u001b[90m━━━━━━━━━━━━━━━━━━━━━━━━━━━━━━━━━━━━━━━━\u001b[0m \u001b[32m207.5/207.5 MB\u001b[0m \u001b[31m5.8 MB/s\u001b[0m eta \u001b[36m0:00:00\u001b[0m\n",
            "\u001b[?25hDownloading nvidia_nvjitlink_cu12-12.4.127-py3-none-manylinux2014_x86_64.whl (21.1 MB)\n",
            "\u001b[2K   \u001b[90m━━━━━━━━━━━━━━━━━━━━━━━━━━━━━━━━━━━━━━━━\u001b[0m \u001b[32m21.1/21.1 MB\u001b[0m \u001b[31m59.7 MB/s\u001b[0m eta \u001b[36m0:00:00\u001b[0m\n",
            "\u001b[?25hInstalling collected packages: nvidia-nvjitlink-cu12, nvidia-curand-cu12, nvidia-cufft-cu12, nvidia-cuda-runtime-cu12, nvidia-cuda-nvrtc-cu12, nvidia-cuda-cupti-cu12, nvidia-cublas-cu12, nvidia-cusparse-cu12, nvidia-cudnn-cu12, nvidia-cusolver-cu12\n",
            "  Attempting uninstall: nvidia-nvjitlink-cu12\n",
            "    Found existing installation: nvidia-nvjitlink-cu12 12.5.82\n",
            "    Uninstalling nvidia-nvjitlink-cu12-12.5.82:\n",
            "      Successfully uninstalled nvidia-nvjitlink-cu12-12.5.82\n",
            "  Attempting uninstall: nvidia-curand-cu12\n",
            "    Found existing installation: nvidia-curand-cu12 10.3.6.82\n",
            "    Uninstalling nvidia-curand-cu12-10.3.6.82:\n",
            "      Successfully uninstalled nvidia-curand-cu12-10.3.6.82\n",
            "  Attempting uninstall: nvidia-cufft-cu12\n",
            "    Found existing installation: nvidia-cufft-cu12 11.2.3.61\n",
            "    Uninstalling nvidia-cufft-cu12-11.2.3.61:\n",
            "      Successfully uninstalled nvidia-cufft-cu12-11.2.3.61\n",
            "  Attempting uninstall: nvidia-cuda-runtime-cu12\n",
            "    Found existing installation: nvidia-cuda-runtime-cu12 12.5.82\n",
            "    Uninstalling nvidia-cuda-runtime-cu12-12.5.82:\n",
            "      Successfully uninstalled nvidia-cuda-runtime-cu12-12.5.82\n",
            "  Attempting uninstall: nvidia-cuda-nvrtc-cu12\n",
            "    Found existing installation: nvidia-cuda-nvrtc-cu12 12.5.82\n",
            "    Uninstalling nvidia-cuda-nvrtc-cu12-12.5.82:\n",
            "      Successfully uninstalled nvidia-cuda-nvrtc-cu12-12.5.82\n",
            "  Attempting uninstall: nvidia-cuda-cupti-cu12\n",
            "    Found existing installation: nvidia-cuda-cupti-cu12 12.5.82\n",
            "    Uninstalling nvidia-cuda-cupti-cu12-12.5.82:\n",
            "      Successfully uninstalled nvidia-cuda-cupti-cu12-12.5.82\n",
            "  Attempting uninstall: nvidia-cublas-cu12\n",
            "    Found existing installation: nvidia-cublas-cu12 12.5.3.2\n",
            "    Uninstalling nvidia-cublas-cu12-12.5.3.2:\n",
            "      Successfully uninstalled nvidia-cublas-cu12-12.5.3.2\n"
          ]
        }
      ]
    },
    {
      "cell_type": "code",
      "source": [
        "%cd /content/4D-Humans"
      ],
      "metadata": {
        "id": "OJ8SNiyeGhml",
        "colab": {
          "base_uri": "https://localhost:8080/"
        },
        "outputId": "df384b36-c5de-4eda-9455-b03a5a8f557f"
      },
      "execution_count": 1,
      "outputs": [
        {
          "output_type": "stream",
          "name": "stdout",
          "text": [
            "/content/4D-Humans\n"
          ]
        }
      ]
    },
    {
      "cell_type": "code",
      "source": [
        "import os\n",
        "\n",
        "file_path = \"/usr/local/lib/python3.11/dist-packages/chumpy/ch.py\"\n",
        "\n",
        "# Lies den Inhalt der Datei\n",
        "with open(file_path, \"r\") as file:\n",
        "    content = file.read()\n",
        "\n",
        "# Ersetze `inspect.getargspec` durch `inspect.signature`\n",
        "content = content.replace(\"inspect.getargspec(func).args\", \"inspect.signature(func).parameters\")\n",
        "\n",
        "# Schreibe die Änderungen zurück\n",
        "with open(file_path, \"w\") as file:\n",
        "    file.write(content)\n",
        "\n",
        "print(\"Änderungen erfolgreich durchgeführt!\")\n"
      ],
      "metadata": {
        "id": "iPsnb9FMGtB5",
        "colab": {
          "base_uri": "https://localhost:8080/"
        },
        "outputId": "2891bee1-107f-447b-fb3c-49f3eadcec6f"
      },
      "execution_count": 8,
      "outputs": [
        {
          "output_type": "stream",
          "name": "stdout",
          "text": [
            "Änderungen erfolgreich durchgeführt!\n"
          ]
        }
      ]
    },
    {
      "cell_type": "code",
      "source": [
        "!pip install git+https://github.com/brjathu/PHALP.git"
      ],
      "metadata": {
        "id": "dzBc7ISLGxTF",
        "colab": {
          "base_uri": "https://localhost:8080/"
        },
        "outputId": "c2ae9221-dc52-44cc-937c-c2945d303eac"
      },
      "execution_count": 9,
      "outputs": [
        {
          "output_type": "stream",
          "name": "stdout",
          "text": [
            "Collecting git+https://github.com/brjathu/PHALP.git\n",
            "  Cloning https://github.com/brjathu/PHALP.git to /tmp/pip-req-build-asf4i47o\n",
            "  Running command git clone --filter=blob:none --quiet https://github.com/brjathu/PHALP.git /tmp/pip-req-build-asf4i47o\n",
            "  Resolved https://github.com/brjathu/PHALP.git to commit 677074a9bd7acac58c0b98a31b04ae54b93dcd2f\n",
            "  Preparing metadata (setup.py) ... \u001b[?25l\u001b[?25hdone\n",
            "Collecting detectron2@ git+https://github.com/facebookresearch/detectron2.git (from phalp==0.1.3)\n",
            "  Cloning https://github.com/facebookresearch/detectron2.git to /tmp/pip-install-6el9nk2z/detectron2_776f0964c95e48af809f900152d87931\n",
            "  Running command git clone --filter=blob:none --quiet https://github.com/facebookresearch/detectron2.git /tmp/pip-install-6el9nk2z/detectron2_776f0964c95e48af809f900152d87931\n",
            "  Resolved https://github.com/facebookresearch/detectron2.git to commit 9604f5995cc628619f0e4fd913453b4d7d61db3f\n",
            "  Preparing metadata (setup.py) ... \u001b[?25l\u001b[?25hdone\n",
            "Collecting pytube@ git+https://github.com/pytube/pytube.git (from phalp==0.1.3)\n",
            "  Cloning https://github.com/pytube/pytube.git to /tmp/pip-install-6el9nk2z/pytube_9c81bae634c4474aadaf2fcaf2941f64\n",
            "  Running command git clone --filter=blob:none --quiet https://github.com/pytube/pytube.git /tmp/pip-install-6el9nk2z/pytube_9c81bae634c4474aadaf2fcaf2941f64\n",
            "  Resolved https://github.com/pytube/pytube.git to commit a32fff39058a6f7e5e59ecd06a7467b71197ce35\n",
            "  Preparing metadata (setup.py) ... \u001b[?25l\u001b[?25hdone\n",
            "Collecting pyopengl@ git+https://github.com/mmatl/pyopengl.git (from phalp==0.1.3)\n",
            "  Cloning https://github.com/mmatl/pyopengl.git to /tmp/pip-install-6el9nk2z/pyopengl_b522cc9a183a49ffbaa83e0e5f8e7332\n",
            "  Running command git clone --filter=blob:none --quiet https://github.com/mmatl/pyopengl.git /tmp/pip-install-6el9nk2z/pyopengl_b522cc9a183a49ffbaa83e0e5f8e7332\n",
            "  Resolved https://github.com/mmatl/pyopengl.git to commit 76d1261adee2d3fd99b418e75b0416bb7d2865e6\n",
            "  Preparing metadata (setup.py) ... \u001b[?25l\u001b[?25hdone\n",
            "Collecting chumpy@ git+https://github.com/mattloper/chumpy (from phalp==0.1.3)\n",
            "  Cloning https://github.com/mattloper/chumpy to /tmp/pip-install-6el9nk2z/chumpy_2e493854b9ed40eeaec5b8531a4ece08\n",
            "  Running command git clone --filter=blob:none --quiet https://github.com/mattloper/chumpy /tmp/pip-install-6el9nk2z/chumpy_2e493854b9ed40eeaec5b8531a4ece08\n",
            "  Resolved https://github.com/mattloper/chumpy to commit 51d5afd92a8ded3637553be8cef41f328a1c863a\n",
            "  Preparing metadata (setup.py) ... \u001b[?25l\u001b[?25hdone\n",
            "Collecting neural-renderer-pytorch@ git+https://github.com/shubham-goel/NMR.git (from phalp==0.1.3)\n",
            "  Cloning https://github.com/shubham-goel/NMR.git to /tmp/pip-install-6el9nk2z/neural-renderer-pytorch_e36a54046c40499282e0decaafbf6fa2\n",
            "  Running command git clone --filter=blob:none --quiet https://github.com/shubham-goel/NMR.git /tmp/pip-install-6el9nk2z/neural-renderer-pytorch_e36a54046c40499282e0decaafbf6fa2\n",
            "  Resolved https://github.com/shubham-goel/NMR.git to commit e990b3c70f48d39231f607c79d76ce3db4bf7483\n",
            "  Preparing metadata (setup.py) ... \u001b[?25l\u001b[?25hdone\n",
            "Requirement already satisfied: opencv-python in /usr/local/lib/python3.11/dist-packages (from phalp==0.1.3) (4.10.0.84)\n",
            "Requirement already satisfied: joblib in /usr/local/lib/python3.11/dist-packages (from phalp==0.1.3) (1.4.2)\n",
            "Requirement already satisfied: scikit-learn in /usr/local/lib/python3.11/dist-packages (from phalp==0.1.3) (1.6.1)\n",
            "Requirement already satisfied: pyrender in /usr/local/lib/python3.11/dist-packages (from phalp==0.1.3) (0.1.45)\n",
            "Requirement already satisfied: dill in /usr/local/lib/python3.11/dist-packages (from phalp==0.1.3) (0.3.9)\n",
            "Requirement already satisfied: rich in /usr/local/lib/python3.11/dist-packages (from phalp==0.1.3) (13.9.4)\n",
            "Requirement already satisfied: einops in /usr/local/lib/python3.11/dist-packages (from phalp==0.1.3) (0.8.0)\n",
            "Collecting scenedetect[opencv] (from phalp==0.1.3)\n",
            "  Using cached scenedetect-0.6.5.2-py3-none-any.whl.metadata (4.0 kB)\n",
            "Requirement already satisfied: hydra-core in /usr/local/lib/python3.11/dist-packages (from phalp==0.1.3) (1.3.2)\n",
            "Requirement already satisfied: timm in /usr/local/lib/python3.11/dist-packages (from phalp==0.1.3) (1.0.14)\n",
            "Collecting av (from phalp==0.1.3)\n",
            "  Using cached av-14.1.0-cp311-cp311-manylinux_2_17_x86_64.manylinux2014_x86_64.whl.metadata (4.7 kB)\n",
            "Requirement already satisfied: smplx==0.1.28 in /usr/local/lib/python3.11/dist-packages (from phalp==0.1.3) (0.1.28)\n",
            "Requirement already satisfied: numpy in /usr/local/lib/python3.11/dist-packages (from phalp==0.1.3) (1.26.4)\n",
            "Requirement already satisfied: torch>=1.0.1.post2 in /usr/local/lib/python3.11/dist-packages (from smplx==0.1.28->phalp==0.1.3) (2.5.1+cu124)\n",
            "Requirement already satisfied: scipy>=0.13.0 in /usr/local/lib/python3.11/dist-packages (from chumpy@ git+https://github.com/mattloper/chumpy->phalp==0.1.3) (1.13.1)\n",
            "Requirement already satisfied: six>=1.11.0 in /usr/local/lib/python3.11/dist-packages (from chumpy@ git+https://github.com/mattloper/chumpy->phalp==0.1.3) (1.17.0)\n",
            "Requirement already satisfied: Pillow>=7.1 in /usr/local/lib/python3.11/dist-packages (from detectron2@ git+https://github.com/facebookresearch/detectron2.git->phalp==0.1.3) (11.1.0)\n",
            "Requirement already satisfied: matplotlib in /usr/local/lib/python3.11/dist-packages (from detectron2@ git+https://github.com/facebookresearch/detectron2.git->phalp==0.1.3) (3.10.0)\n",
            "Requirement already satisfied: pycocotools>=2.0.2 in /usr/local/lib/python3.11/dist-packages (from detectron2@ git+https://github.com/facebookresearch/detectron2.git->phalp==0.1.3) (2.0.8)\n",
            "Requirement already satisfied: termcolor>=1.1 in /usr/local/lib/python3.11/dist-packages (from detectron2@ git+https://github.com/facebookresearch/detectron2.git->phalp==0.1.3) (2.5.0)\n",
            "Requirement already satisfied: yacs>=0.1.8 in /usr/local/lib/python3.11/dist-packages (from detectron2@ git+https://github.com/facebookresearch/detectron2.git->phalp==0.1.3) (0.1.8)\n",
            "Requirement already satisfied: tabulate in /usr/local/lib/python3.11/dist-packages (from detectron2@ git+https://github.com/facebookresearch/detectron2.git->phalp==0.1.3) (0.9.0)\n",
            "Requirement already satisfied: cloudpickle in /usr/local/lib/python3.11/dist-packages (from detectron2@ git+https://github.com/facebookresearch/detectron2.git->phalp==0.1.3) (3.1.1)\n",
            "Requirement already satisfied: tqdm>4.29.0 in /usr/local/lib/python3.11/dist-packages (from detectron2@ git+https://github.com/facebookresearch/detectron2.git->phalp==0.1.3) (4.67.1)\n",
            "Requirement already satisfied: tensorboard in /usr/local/lib/python3.11/dist-packages (from detectron2@ git+https://github.com/facebookresearch/detectron2.git->phalp==0.1.3) (2.18.0)\n",
            "Requirement already satisfied: fvcore<0.1.6,>=0.1.5 in /usr/local/lib/python3.11/dist-packages (from detectron2@ git+https://github.com/facebookresearch/detectron2.git->phalp==0.1.3) (0.1.5.post20221221)\n",
            "Requirement already satisfied: iopath<0.1.10,>=0.1.7 in /usr/local/lib/python3.11/dist-packages (from detectron2@ git+https://github.com/facebookresearch/detectron2.git->phalp==0.1.3) (0.1.9)\n",
            "Requirement already satisfied: omegaconf<2.4,>=2.1 in /usr/local/lib/python3.11/dist-packages (from detectron2@ git+https://github.com/facebookresearch/detectron2.git->phalp==0.1.3) (2.3.0)\n",
            "Requirement already satisfied: black in /usr/local/lib/python3.11/dist-packages (from detectron2@ git+https://github.com/facebookresearch/detectron2.git->phalp==0.1.3) (25.1.0)\n",
            "Requirement already satisfied: packaging in /usr/local/lib/python3.11/dist-packages (from detectron2@ git+https://github.com/facebookresearch/detectron2.git->phalp==0.1.3) (24.2)\n",
            "Requirement already satisfied: antlr4-python3-runtime==4.9.* in /usr/local/lib/python3.11/dist-packages (from hydra-core->phalp==0.1.3) (4.9.3)\n",
            "Requirement already satisfied: freetype-py in /usr/local/lib/python3.11/dist-packages (from pyrender->phalp==0.1.3) (2.5.1)\n",
            "Requirement already satisfied: imageio in /usr/local/lib/python3.11/dist-packages (from pyrender->phalp==0.1.3) (2.36.1)\n",
            "Requirement already satisfied: networkx in /usr/local/lib/python3.11/dist-packages (from pyrender->phalp==0.1.3) (3.4.2)\n",
            "Requirement already satisfied: pyglet>=1.4.10 in /usr/local/lib/python3.11/dist-packages (from pyrender->phalp==0.1.3) (2.1.2)\n",
            "Requirement already satisfied: trimesh in /usr/local/lib/python3.11/dist-packages (from pyrender->phalp==0.1.3) (4.6.1)\n",
            "Requirement already satisfied: markdown-it-py>=2.2.0 in /usr/local/lib/python3.11/dist-packages (from rich->phalp==0.1.3) (3.0.0)\n",
            "Requirement already satisfied: pygments<3.0.0,>=2.13.0 in /usr/local/lib/python3.11/dist-packages (from rich->phalp==0.1.3) (2.18.0)\n",
            "Requirement already satisfied: Click in /usr/local/lib/python3.11/dist-packages (from scenedetect[opencv]->phalp==0.1.3) (8.1.8)\n",
            "Requirement already satisfied: platformdirs in /usr/local/lib/python3.11/dist-packages (from scenedetect[opencv]->phalp==0.1.3) (4.3.6)\n",
            "Requirement already satisfied: threadpoolctl>=3.1.0 in /usr/local/lib/python3.11/dist-packages (from scikit-learn->phalp==0.1.3) (3.5.0)\n",
            "Requirement already satisfied: torchvision in /usr/local/lib/python3.11/dist-packages (from timm->phalp==0.1.3) (0.20.1+cu124)\n",
            "Requirement already satisfied: pyyaml in /usr/local/lib/python3.11/dist-packages (from timm->phalp==0.1.3) (6.0.2)\n",
            "Requirement already satisfied: huggingface_hub in /usr/local/lib/python3.11/dist-packages (from timm->phalp==0.1.3) (0.27.1)\n",
            "Requirement already satisfied: safetensors in /usr/local/lib/python3.11/dist-packages (from timm->phalp==0.1.3) (0.5.2)\n",
            "Requirement already satisfied: portalocker in /usr/local/lib/python3.11/dist-packages (from iopath<0.1.10,>=0.1.7->detectron2@ git+https://github.com/facebookresearch/detectron2.git->phalp==0.1.3) (3.1.1)\n",
            "Requirement already satisfied: mdurl~=0.1 in /usr/local/lib/python3.11/dist-packages (from markdown-it-py>=2.2.0->rich->phalp==0.1.3) (0.1.2)\n",
            "Requirement already satisfied: contourpy>=1.0.1 in /usr/local/lib/python3.11/dist-packages (from matplotlib->detectron2@ git+https://github.com/facebookresearch/detectron2.git->phalp==0.1.3) (1.3.1)\n",
            "Requirement already satisfied: cycler>=0.10 in /usr/local/lib/python3.11/dist-packages (from matplotlib->detectron2@ git+https://github.com/facebookresearch/detectron2.git->phalp==0.1.3) (0.12.1)\n",
            "Requirement already satisfied: fonttools>=4.22.0 in /usr/local/lib/python3.11/dist-packages (from matplotlib->detectron2@ git+https://github.com/facebookresearch/detectron2.git->phalp==0.1.3) (4.55.7)\n",
            "Requirement already satisfied: kiwisolver>=1.3.1 in /usr/local/lib/python3.11/dist-packages (from matplotlib->detectron2@ git+https://github.com/facebookresearch/detectron2.git->phalp==0.1.3) (1.4.8)\n",
            "Requirement already satisfied: pyparsing>=2.3.1 in /usr/local/lib/python3.11/dist-packages (from matplotlib->detectron2@ git+https://github.com/facebookresearch/detectron2.git->phalp==0.1.3) (3.2.1)\n",
            "Requirement already satisfied: python-dateutil>=2.7 in /usr/local/lib/python3.11/dist-packages (from matplotlib->detectron2@ git+https://github.com/facebookresearch/detectron2.git->phalp==0.1.3) (2.8.2)\n",
            "Requirement already satisfied: filelock in /usr/local/lib/python3.11/dist-packages (from torch>=1.0.1.post2->smplx==0.1.28->phalp==0.1.3) (3.17.0)\n",
            "Requirement already satisfied: typing-extensions>=4.8.0 in /usr/local/lib/python3.11/dist-packages (from torch>=1.0.1.post2->smplx==0.1.28->phalp==0.1.3) (4.12.2)\n",
            "Requirement already satisfied: jinja2 in /usr/local/lib/python3.11/dist-packages (from torch>=1.0.1.post2->smplx==0.1.28->phalp==0.1.3) (3.1.5)\n",
            "Requirement already satisfied: fsspec in /usr/local/lib/python3.11/dist-packages (from torch>=1.0.1.post2->smplx==0.1.28->phalp==0.1.3) (2024.10.0)\n",
            "Requirement already satisfied: nvidia-cuda-nvrtc-cu12==12.4.127 in /usr/local/lib/python3.11/dist-packages (from torch>=1.0.1.post2->smplx==0.1.28->phalp==0.1.3) (12.4.127)\n",
            "Requirement already satisfied: nvidia-cuda-runtime-cu12==12.4.127 in /usr/local/lib/python3.11/dist-packages (from torch>=1.0.1.post2->smplx==0.1.28->phalp==0.1.3) (12.4.127)\n",
            "Requirement already satisfied: nvidia-cuda-cupti-cu12==12.4.127 in /usr/local/lib/python3.11/dist-packages (from torch>=1.0.1.post2->smplx==0.1.28->phalp==0.1.3) (12.4.127)\n",
            "Requirement already satisfied: nvidia-cudnn-cu12==9.1.0.70 in /usr/local/lib/python3.11/dist-packages (from torch>=1.0.1.post2->smplx==0.1.28->phalp==0.1.3) (9.1.0.70)\n",
            "Requirement already satisfied: nvidia-cublas-cu12==12.4.5.8 in /usr/local/lib/python3.11/dist-packages (from torch>=1.0.1.post2->smplx==0.1.28->phalp==0.1.3) (12.4.5.8)\n",
            "Requirement already satisfied: nvidia-cufft-cu12==11.2.1.3 in /usr/local/lib/python3.11/dist-packages (from torch>=1.0.1.post2->smplx==0.1.28->phalp==0.1.3) (11.2.1.3)\n",
            "Requirement already satisfied: nvidia-curand-cu12==10.3.5.147 in /usr/local/lib/python3.11/dist-packages (from torch>=1.0.1.post2->smplx==0.1.28->phalp==0.1.3) (10.3.5.147)\n",
            "Requirement already satisfied: nvidia-cusolver-cu12==11.6.1.9 in /usr/local/lib/python3.11/dist-packages (from torch>=1.0.1.post2->smplx==0.1.28->phalp==0.1.3) (11.6.1.9)\n",
            "Requirement already satisfied: nvidia-cusparse-cu12==12.3.1.170 in /usr/local/lib/python3.11/dist-packages (from torch>=1.0.1.post2->smplx==0.1.28->phalp==0.1.3) (12.3.1.170)\n",
            "Requirement already satisfied: nvidia-nccl-cu12==2.21.5 in /usr/local/lib/python3.11/dist-packages (from torch>=1.0.1.post2->smplx==0.1.28->phalp==0.1.3) (2.21.5)\n",
            "Requirement already satisfied: nvidia-nvtx-cu12==12.4.127 in /usr/local/lib/python3.11/dist-packages (from torch>=1.0.1.post2->smplx==0.1.28->phalp==0.1.3) (12.4.127)\n",
            "Requirement already satisfied: nvidia-nvjitlink-cu12==12.4.127 in /usr/local/lib/python3.11/dist-packages (from torch>=1.0.1.post2->smplx==0.1.28->phalp==0.1.3) (12.4.127)\n",
            "Requirement already satisfied: triton==3.1.0 in /usr/local/lib/python3.11/dist-packages (from torch>=1.0.1.post2->smplx==0.1.28->phalp==0.1.3) (3.1.0)\n",
            "Requirement already satisfied: sympy==1.13.1 in /usr/local/lib/python3.11/dist-packages (from torch>=1.0.1.post2->smplx==0.1.28->phalp==0.1.3) (1.13.1)\n",
            "Requirement already satisfied: mpmath<1.4,>=1.1.0 in /usr/local/lib/python3.11/dist-packages (from sympy==1.13.1->torch>=1.0.1.post2->smplx==0.1.28->phalp==0.1.3) (1.3.0)\n",
            "Requirement already satisfied: mypy-extensions>=0.4.3 in /usr/local/lib/python3.11/dist-packages (from black->detectron2@ git+https://github.com/facebookresearch/detectron2.git->phalp==0.1.3) (1.0.0)\n",
            "Requirement already satisfied: pathspec>=0.9.0 in /usr/local/lib/python3.11/dist-packages (from black->detectron2@ git+https://github.com/facebookresearch/detectron2.git->phalp==0.1.3) (0.12.1)\n",
            "Requirement already satisfied: requests in /usr/local/lib/python3.11/dist-packages (from huggingface_hub->timm->phalp==0.1.3) (2.32.3)\n",
            "Requirement already satisfied: absl-py>=0.4 in /usr/local/lib/python3.11/dist-packages (from tensorboard->detectron2@ git+https://github.com/facebookresearch/detectron2.git->phalp==0.1.3) (1.4.0)\n",
            "Requirement already satisfied: grpcio>=1.48.2 in /usr/local/lib/python3.11/dist-packages (from tensorboard->detectron2@ git+https://github.com/facebookresearch/detectron2.git->phalp==0.1.3) (1.70.0)\n",
            "Requirement already satisfied: markdown>=2.6.8 in /usr/local/lib/python3.11/dist-packages (from tensorboard->detectron2@ git+https://github.com/facebookresearch/detectron2.git->phalp==0.1.3) (3.7)\n",
            "Requirement already satisfied: protobuf!=4.24.0,>=3.19.6 in /usr/local/lib/python3.11/dist-packages (from tensorboard->detectron2@ git+https://github.com/facebookresearch/detectron2.git->phalp==0.1.3) (4.25.6)\n",
            "Requirement already satisfied: setuptools>=41.0.0 in /usr/local/lib/python3.11/dist-packages (from tensorboard->detectron2@ git+https://github.com/facebookresearch/detectron2.git->phalp==0.1.3) (75.1.0)\n",
            "Requirement already satisfied: tensorboard-data-server<0.8.0,>=0.7.0 in /usr/local/lib/python3.11/dist-packages (from tensorboard->detectron2@ git+https://github.com/facebookresearch/detectron2.git->phalp==0.1.3) (0.7.2)\n",
            "Requirement already satisfied: werkzeug>=1.0.1 in /usr/local/lib/python3.11/dist-packages (from tensorboard->detectron2@ git+https://github.com/facebookresearch/detectron2.git->phalp==0.1.3) (3.1.3)\n",
            "Requirement already satisfied: MarkupSafe>=2.1.1 in /usr/local/lib/python3.11/dist-packages (from werkzeug>=1.0.1->tensorboard->detectron2@ git+https://github.com/facebookresearch/detectron2.git->phalp==0.1.3) (3.0.2)\n",
            "Requirement already satisfied: charset-normalizer<4,>=2 in /usr/local/lib/python3.11/dist-packages (from requests->huggingface_hub->timm->phalp==0.1.3) (3.4.1)\n",
            "Requirement already satisfied: idna<4,>=2.5 in /usr/local/lib/python3.11/dist-packages (from requests->huggingface_hub->timm->phalp==0.1.3) (3.10)\n",
            "Requirement already satisfied: urllib3<3,>=1.21.1 in /usr/local/lib/python3.11/dist-packages (from requests->huggingface_hub->timm->phalp==0.1.3) (2.3.0)\n",
            "Requirement already satisfied: certifi>=2017.4.17 in /usr/local/lib/python3.11/dist-packages (from requests->huggingface_hub->timm->phalp==0.1.3) (2024.12.14)\n",
            "Using cached av-14.1.0-cp311-cp311-manylinux_2_17_x86_64.manylinux2014_x86_64.whl (39.5 MB)\n",
            "Using cached scenedetect-0.6.5.2-py3-none-any.whl (127 kB)\n",
            "Building wheels for collected packages: phalp, neural-renderer-pytorch, pytube\n",
            "  Building wheel for phalp (setup.py) ... \u001b[?25l\u001b[?25hdone\n",
            "  Created wheel for phalp: filename=phalp-0.1.3-py3-none-any.whl size=68082 sha256=65cddf028f1309e8f0110b436ddf53726d61efea5e7b0e6b71478fe52f77b9b6\n",
            "  Stored in directory: /tmp/pip-ephem-wheel-cache-frs3_hiw/wheels/41/6e/ab/bbfd6bc4e54e64e527a6b0a7096d3a661ed3e9e7393cf5975e\n",
            "  \u001b[1;31merror\u001b[0m: \u001b[1msubprocess-exited-with-error\u001b[0m\n",
            "  \n",
            "  \u001b[31m×\u001b[0m \u001b[32mpython setup.py bdist_wheel\u001b[0m did not run successfully.\n",
            "  \u001b[31m│\u001b[0m exit code: \u001b[1;36m1\u001b[0m\n",
            "  \u001b[31m╰─>\u001b[0m See above for output.\n",
            "  \n",
            "  \u001b[1;35mnote\u001b[0m: This error originates from a subprocess, and is likely not a problem with pip.\n",
            "  Building wheel for neural-renderer-pytorch (setup.py) ... \u001b[?25lerror\n",
            "\u001b[31m  ERROR: Failed building wheel for neural-renderer-pytorch\u001b[0m\u001b[31m\n",
            "\u001b[0m\u001b[?25h  Running setup.py clean for neural-renderer-pytorch\n",
            "  Building wheel for pytube (setup.py) ... \u001b[?25l\u001b[?25hdone\n",
            "  Created wheel for pytube: filename=pytube-15.0.0-py3-none-any.whl size=57580 sha256=40e053a7f6741094113a0ee3c89f056838f5f131fe4f591a2910ed90697aad6e\n",
            "  Stored in directory: /tmp/pip-ephem-wheel-cache-frs3_hiw/wheels/b2/76/88/30534ea7032ca09fad6dc11cbdcdd7323f6d08b911f1ef2671\n",
            "Successfully built phalp pytube\n",
            "Failed to build neural-renderer-pytorch\n",
            "\u001b[31mERROR: ERROR: Failed to build installable wheels for some pyproject.toml based projects (neural-renderer-pytorch)\u001b[0m\u001b[31m\n",
            "\u001b[0m"
          ]
        }
      ]
    },
    {
      "cell_type": "code",
      "source": [
        "video_path = \"example_data/videos/G_1Simon_PD.mp4\"\n",
        "video_name = \"G_1Simon_PD\"\n",
        "\n",
        "# Tracking ausführen\n",
        "!python track.py video.source=\"{video_path}\" video.start_frame=0 video.end_frame=117"
      ],
      "metadata": {
        "id": "8nhZZQ_2GyyT",
        "colab": {
          "base_uri": "https://localhost:8080/"
        },
        "outputId": "4dcfc39b-cf6e-48d0-cb47-3c149d8ff3c1"
      },
      "execution_count": 6,
      "outputs": [
        {
          "output_type": "stream",
          "name": "stdout",
          "text": [
            "Traceback (most recent call last):\n",
            "  File \"/content/4D-Humans/track.py\", line 13, in <module>\n",
            "    from phalp.configs.base import FullConfig\n",
            "ModuleNotFoundError: No module named 'phalp'\n"
          ]
        }
      ]
    },
    {
      "cell_type": "code",
      "source": [
        "# Funktion zur Anzeige des Videos\n",
        "def show_local_mp4_video(file_name, width=640, height=480):\n",
        "    import io\n",
        "    import base64\n",
        "    from IPython.display import HTML\n",
        "    video_encoded = base64.b64encode(io.open(file_name, 'rb').read())\n",
        "    return HTML(data='''<video width=\"{0}\" height=\"{1}\" alt=\"test\" controls>\n",
        "                        <source src=\"data:video/mp4;base64,{2}\" type=\"video/mp4\" />\n",
        "                        </video>'''.format(width, height, video_encoded.decode('ascii')))\n",
        "\n",
        "# Dynamische Pfade für das Ausgabevideo\n",
        "output_video_path = f\"outputs/PHALP_{video_name}.mp4\"\n",
        "converted_video_path = f\"outputs/PHALP_{video_name}_ffmpeg.mp4\"\n",
        "\n",
        "# Konvertiere mit ffmpeg und zeige das Video an\n",
        "!ffmpeg -y -hide_banner -loglevel error -i \"{output_video_path}\" \"{converted_video_path}\"\n",
        "show_local_mp4_video(converted_video_path, width=960, height=540)\n"
      ],
      "metadata": {
        "id": "hOf1iyUJG2wf",
        "colab": {
          "base_uri": "https://localhost:8080/",
          "height": 315
        },
        "outputId": "9c130618-50b6-4074-b76c-d17e59aa24a4"
      },
      "execution_count": 5,
      "outputs": [
        {
          "output_type": "stream",
          "name": "stdout",
          "text": [
            "\u001b[1;31moutputs/PHALP_G_1Simon_PD.mp4: No such file or directory\n",
            "\u001b[0m"
          ]
        },
        {
          "output_type": "error",
          "ename": "FileNotFoundError",
          "evalue": "[Errno 2] No such file or directory: 'outputs/PHALP_G_1Simon_PD_ffmpeg.mp4'",
          "traceback": [
            "\u001b[0;31m---------------------------------------------------------------------------\u001b[0m",
            "\u001b[0;31mFileNotFoundError\u001b[0m                         Traceback (most recent call last)",
            "\u001b[0;32m<ipython-input-5-aabe97afa59d>\u001b[0m in \u001b[0;36m<cell line: 0>\u001b[0;34m()\u001b[0m\n\u001b[1;32m     15\u001b[0m \u001b[0;31m# Konvertiere mit ffmpeg und zeige das Video an\u001b[0m\u001b[0;34m\u001b[0m\u001b[0;34m\u001b[0m\u001b[0m\n\u001b[1;32m     16\u001b[0m \u001b[0mget_ipython\u001b[0m\u001b[0;34m(\u001b[0m\u001b[0;34m)\u001b[0m\u001b[0;34m.\u001b[0m\u001b[0msystem\u001b[0m\u001b[0;34m(\u001b[0m\u001b[0;34m'ffmpeg -y -hide_banner -loglevel error -i \"{output_video_path}\" \"{converted_video_path}\"'\u001b[0m\u001b[0;34m)\u001b[0m\u001b[0;34m\u001b[0m\u001b[0;34m\u001b[0m\u001b[0m\n\u001b[0;32m---> 17\u001b[0;31m \u001b[0mshow_local_mp4_video\u001b[0m\u001b[0;34m(\u001b[0m\u001b[0mconverted_video_path\u001b[0m\u001b[0;34m,\u001b[0m \u001b[0mwidth\u001b[0m\u001b[0;34m=\u001b[0m\u001b[0;36m960\u001b[0m\u001b[0;34m,\u001b[0m \u001b[0mheight\u001b[0m\u001b[0;34m=\u001b[0m\u001b[0;36m540\u001b[0m\u001b[0;34m)\u001b[0m\u001b[0;34m\u001b[0m\u001b[0;34m\u001b[0m\u001b[0m\n\u001b[0m",
            "\u001b[0;32m<ipython-input-5-aabe97afa59d>\u001b[0m in \u001b[0;36mshow_local_mp4_video\u001b[0;34m(file_name, width, height)\u001b[0m\n\u001b[1;32m      4\u001b[0m     \u001b[0;32mimport\u001b[0m \u001b[0mbase64\u001b[0m\u001b[0;34m\u001b[0m\u001b[0;34m\u001b[0m\u001b[0m\n\u001b[1;32m      5\u001b[0m     \u001b[0;32mfrom\u001b[0m \u001b[0mIPython\u001b[0m\u001b[0;34m.\u001b[0m\u001b[0mdisplay\u001b[0m \u001b[0;32mimport\u001b[0m \u001b[0mHTML\u001b[0m\u001b[0;34m\u001b[0m\u001b[0;34m\u001b[0m\u001b[0m\n\u001b[0;32m----> 6\u001b[0;31m     \u001b[0mvideo_encoded\u001b[0m \u001b[0;34m=\u001b[0m \u001b[0mbase64\u001b[0m\u001b[0;34m.\u001b[0m\u001b[0mb64encode\u001b[0m\u001b[0;34m(\u001b[0m\u001b[0mio\u001b[0m\u001b[0;34m.\u001b[0m\u001b[0mopen\u001b[0m\u001b[0;34m(\u001b[0m\u001b[0mfile_name\u001b[0m\u001b[0;34m,\u001b[0m \u001b[0;34m'rb'\u001b[0m\u001b[0;34m)\u001b[0m\u001b[0;34m.\u001b[0m\u001b[0mread\u001b[0m\u001b[0;34m(\u001b[0m\u001b[0;34m)\u001b[0m\u001b[0;34m)\u001b[0m\u001b[0;34m\u001b[0m\u001b[0;34m\u001b[0m\u001b[0m\n\u001b[0m\u001b[1;32m      7\u001b[0m     return HTML(data='''<video width=\"{0}\" height=\"{1}\" alt=\"test\" controls>\n\u001b[1;32m      8\u001b[0m                         \u001b[0;34m<\u001b[0m\u001b[0msource\u001b[0m \u001b[0msrc\u001b[0m\u001b[0;34m=\u001b[0m\u001b[0;34m\"data:video/mp4;base64,{2}\"\u001b[0m \u001b[0mtype\u001b[0m\u001b[0;34m=\u001b[0m\u001b[0;34m\"video/mp4\"\u001b[0m \u001b[0;34m/\u001b[0m\u001b[0;34m>\u001b[0m\u001b[0;34m\u001b[0m\u001b[0;34m\u001b[0m\u001b[0m\n",
            "\u001b[0;31mFileNotFoundError\u001b[0m: [Errno 2] No such file or directory: 'outputs/PHALP_G_1Simon_PD_ffmpeg.mp4'"
          ]
        }
      ]
    }
  ]
}